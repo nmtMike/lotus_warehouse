{
 "cells": [
  {
   "cell_type": "code",
   "execution_count": 1,
   "metadata": {},
   "outputs": [],
   "source": [
    "from sqlalchemy import create_engine\n",
    "from sqlalchemy.engine import URL\n",
    "import pandas as pd\n",
    "from sqlalchemy.orm import Session\n",
    "\n",
    "url_object = URL.create(\n",
    "    \"postgresql\",\n",
    "    username=\"lotus\",\n",
    "    password=\"lotus\",\n",
    "    host=\"localhost\",\n",
    "    port=\"5433\",\n",
    "    database=\"lotusdb\")\n",
    "\n",
    "engine = create_engine(url_object)\n",
    "session = Session(engine)"
   ]
  },
  {
   "cell_type": "code",
   "execution_count": null,
   "metadata": {},
   "outputs": [],
   "source": [
    "# delete all rows from all tables\n",
    "\n",
    "query = \"\"\"\n",
    "    SELECT table_name\n",
    "    FROM information_schema.TABLES\n",
    "    WHERE table_schema = 'public'\n",
    "    \"\"\"\n",
    "df = pd.read_sql_query(query, engine)\n",
    "\n",
    "tables = df['table_name'].values\n",
    "\n",
    "for table in tables:\n",
    "    delete_query = f\"\"\"\n",
    "    DELETE FROM {table}\n",
    "    \"\"\"\n",
    "    session.execute(delete_query)\n",
    "\n",
    "session.commit()"
   ]
  },
  {
   "cell_type": "code",
   "execution_count": 2,
   "metadata": {},
   "outputs": [],
   "source": [
    "df = pd.read_excel('Misa_template.xlsx')\n",
    "query = \"\"\" SELECT ma_don_hang FROM don_hang_xuat \"\"\"\n",
    "tmp = pd.read_sql_query(query, engine)"
   ]
  },
  {
   "cell_type": "code",
   "execution_count": 8,
   "metadata": {},
   "outputs": [],
   "source": [
    "query = \"\"\" \n",
    "SELECT *\n",
    "    FROM danh_sach_dong_goi\n",
    "\"\"\"\n",
    "df = pd.read_sql_query(query, engine)\n",
    "\n",
    "don_hang = df[['ma_don_hang', 'ma_khach_hang', 'dien_giai_chung']].drop_duplicates().values.tolist()\n",
    "i = 0\n",
    "for dh in don_hang:\n",
    "    mdh = dh[0]\n",
    "    sp = df[df['ma_don_hang'] == mdh][['ma_san_pham', 'ten_san_pham', 'so_lo_ma_lo', 'don_vi_tinh', 'so_luong']].values.tolist()\n",
    "    dh.append(sp)\n",
    "    dh.append(f'dh{i}')\n",
    "    i += 1"
   ]
  },
  {
   "cell_type": "code",
   "execution_count": 9,
   "metadata": {},
   "outputs": [
    {
     "data": {
      "text/plain": [
       "[['BH2210.0013',\n",
       "  'ST200002',\n",
       "  'Xuất kho bán hàng Công Ty TNHH Việt Hạ Chí',\n",
       "  [['02HAMI0001', 'Mì somen baby 100g/gói', '2022/03+3Y', 'Gói', 10.0],\n",
       "   ['02HAMI0002', 'Mì Baby Spaghetti 100g/gói', '2022/01+18M', 'Gói', 5.0],\n",
       "   ['02HKGA0001',\n",
       "    'Đại mạch Mochimugi (Mochimugi), 600g/gói',\n",
       "    '2022/04+1Y',\n",
       "    'Gói',\n",
       "    9.0]],\n",
       "  'dh0'],\n",
       " ['BH2210.0339',\n",
       "  'ST590001',\n",
       "  'Xuất kho bán hàng CÔNG TY TNHH PHÂN PHỐI SÀNH ĐIỆU',\n",
       "  [['02HAMI0003', 'Mì Udon baby 100g/gói', '2022/03+3Y', 'Gói', 6.0]],\n",
       "  'dh1'],\n",
       " ['BH2210.0019',\n",
       "  'OL0016',\n",
       "  'Xuất kho bán hàng Shop - Công Ty TNHH S-TRADING (  Shopee  )',\n",
       "  [['02HKHT0002', 'Hỗn hợp 16 loại hạt 450g/gói', '2022/01+18M', 'Gói', 1.0]],\n",
       "  'dh2'],\n",
       " ['BH2210.0036',\n",
       "  'OL0016',\n",
       "  'Xuất kho bán hàng Shop - Công Ty TNHH S-TRADING (  Shopee  )',\n",
       "  [['02HKHT0002', 'Hỗn hợp 16 loại hạt 450g/gói', '2022/04+18M', 'Gói', 1.0]],\n",
       "  'dh3'],\n",
       " ['BH2210.0037',\n",
       "  'OL0016',\n",
       "  'Xuất kho bán hàng Shop - Công Ty TNHH S-TRADING (  Shopee  )',\n",
       "  [['02HKHT0002', 'Hỗn hợp 16 loại hạt 450g/gói', '2022/04+18M', 'Gói', 4.0]],\n",
       "  'dh4'],\n",
       " ['BH2210.0059',\n",
       "  'OL0016',\n",
       "  'Xuất kho bán hàng Shop - Công Ty TNHH S-TRADING (  Shopee  )',\n",
       "  [['02HKHT0002', 'Hỗn hợp 16 loại hạt 450g/gói', '2022/04+18M', 'Gói', 1.0]],\n",
       "  'dh5'],\n",
       " ['BH2210.0060',\n",
       "  'OL0016',\n",
       "  'Xuất kho bán hàng Shop - Công Ty TNHH S-TRADING (  Shopee  )',\n",
       "  [['02HKHT0002', 'Hỗn hợp 16 loại hạt 450g/gói', '2022/04+18M', 'Gói', 1.0]],\n",
       "  'dh6'],\n",
       " ['BH2210.0063',\n",
       "  'OL0016',\n",
       "  'Xuất kho bán hàng Shop - Công Ty TNHH S-TRADING (  Shopee  )',\n",
       "  [['02HKHT0002', 'Hỗn hợp 16 loại hạt 450g/gói', '2022/04+18M', 'Gói', 1.0]],\n",
       "  'dh7'],\n",
       " ['BH2210.0216',\n",
       "  'OL0020',\n",
       "  'Xuất kho bán hàng Công Ty TNHH Recess (Online)',\n",
       "  [['02HKGA0002',\n",
       "    'Đại mạch Mochimugi (Mochimugi), 800g/gói',\n",
       "    '2022/01+1Y',\n",
       "    'Gói',\n",
       "    2.0]],\n",
       "  'dh8']]"
      ]
     },
     "execution_count": 9,
     "metadata": {},
     "output_type": "execute_result"
    }
   ],
   "source": [
    "don_hang"
   ]
  }
 ],
 "metadata": {
  "kernelspec": {
   "display_name": "VTA_RM_env",
   "language": "python",
   "name": "python3"
  },
  "language_info": {
   "codemirror_mode": {
    "name": "ipython",
    "version": 3
   },
   "file_extension": ".py",
   "mimetype": "text/x-python",
   "name": "python",
   "nbconvert_exporter": "python",
   "pygments_lexer": "ipython3",
   "version": "3.9.12"
  },
  "orig_nbformat": 4,
  "vscode": {
   "interpreter": {
    "hash": "6adb8717c4d0a5bbc833609db47a0d4a022aa11119d5859c7607f3701f1e243a"
   }
  }
 },
 "nbformat": 4,
 "nbformat_minor": 2
}

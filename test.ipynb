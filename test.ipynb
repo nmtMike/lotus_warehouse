{
 "cells": [
  {
   "cell_type": "code",
   "execution_count": 1,
   "metadata": {},
   "outputs": [],
   "source": [
    "from sqlalchemy import create_engine\n",
    "from sqlalchemy.engine import URL\n",
    "import pandas as pd\n",
    "from sqlalchemy.orm import Session\n",
    "\n",
    "url_object = URL.create(\n",
    "    \"postgresql\",\n",
    "    username=\"lotus\",\n",
    "    password=\"lotus\",\n",
    "    host=\"localhost\",\n",
    "    port=\"5433\",\n",
    "    database=\"lotusdb\")\n",
    "\n",
    "engine = create_engine(url_object)\n",
    "session = Session(engine)"
   ]
  },
  {
   "cell_type": "code",
   "execution_count": 79,
   "metadata": {},
   "outputs": [],
   "source": [
    "# delete all rows from all tables\n",
    "\n",
    "query = \"\"\"\n",
    "    SELECT table_name\n",
    "    FROM information_schema.TABLES\n",
    "    WHERE table_schema = 'public'\n",
    "    \"\"\"\n",
    "df = pd.read_sql_query(query, engine)\n",
    "\n",
    "tables = df['table_name'].values\n",
    "\n",
    "for table in tables:\n",
    "    delete_query = f\"\"\"\n",
    "    DELETE FROM {table}\n",
    "    \"\"\"\n",
    "    session.execute(delete_query)\n",
    "\n",
    "session.commit()"
   ]
  },
  {
   "cell_type": "code",
   "execution_count": 2,
   "metadata": {},
   "outputs": [],
   "source": [
    "df = pd.read_excel('Misa_template.xlsx')\n",
    "query = \"\"\" SELECT ma_don_hang FROM don_hang_xuat \"\"\"\n",
    "tmp = pd.read_sql_query(query, engine)"
   ]
  },
  {
   "cell_type": "code",
   "execution_count": null,
   "metadata": {},
   "outputs": [],
   "source": [
    "query = \"\"\" SELECT ma_don_hang FROM don_hang_xuat \"\"\"\n",
    "ma_don_hang_existed = pd.read_sql_query(query, engine)['ma_don_hang']\n",
    "ma_don_hang_existed = df[df['ma_don_hang'].isin(ma_don_hang_existed)]['ma_don_hang']\n",
    "ma_don_hang_existed = ma_don_hang_existed.tolist()\n",
    "ma_don_hang_existed"
   ]
  },
  {
   "cell_type": "code",
   "execution_count": 2,
   "metadata": {},
   "outputs": [],
   "source": [
    "query = \"\"\" \n",
    "SELECT *\n",
    "    FROM don_hang_xuat\n",
    "\"\"\"\n",
    "df = pd.read_sql_query(query, engine)"
   ]
  },
  {
   "cell_type": "code",
   "execution_count": 8,
   "metadata": {},
   "outputs": [
    {
     "data": {
      "text/plain": [
       "2"
      ]
     },
     "execution_count": 8,
     "metadata": {},
     "output_type": "execute_result"
    }
   ],
   "source": [
    "query = \"\"\" \n",
    "SELECT *\n",
    "    FROM don_hang_xuat\n",
    "\"\"\"\n",
    "df = pd.read_sql_query(query, engine)\n",
    "\n",
    "rows = df.values.tolist()\n",
    "len(rows)"
   ]
  }
 ],
 "metadata": {
  "kernelspec": {
   "display_name": "VTA_RM_env",
   "language": "python",
   "name": "python3"
  },
  "language_info": {
   "codemirror_mode": {
    "name": "ipython",
    "version": 3
   },
   "file_extension": ".py",
   "mimetype": "text/x-python",
   "name": "python",
   "nbconvert_exporter": "python",
   "pygments_lexer": "ipython3",
   "version": "3.9.12 (main, Apr  4 2022, 05:22:27) [MSC v.1916 64 bit (AMD64)]"
  },
  "orig_nbformat": 4,
  "vscode": {
   "interpreter": {
    "hash": "6adb8717c4d0a5bbc833609db47a0d4a022aa11119d5859c7607f3701f1e243a"
   }
  }
 },
 "nbformat": 4,
 "nbformat_minor": 2
}
